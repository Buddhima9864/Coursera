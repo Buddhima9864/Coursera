{
  "metadata": {
    "language_info": {
      "codemirror_mode": {
        "name": "python",
        "version": 3
      },
      "file_extension": ".py",
      "mimetype": "text/x-python",
      "name": "python",
      "nbconvert_exporter": "python",
      "pygments_lexer": "ipython3",
      "version": "3.8"
    },
    "kernelspec": {
      "name": "python",
      "display_name": "Python (Pyodide)",
      "language": "python"
    }
  },
  "nbformat_minor": 4,
  "nbformat": 4,
  "cells": [
    {
      "cell_type": "markdown",
      "source": "# My Jupyter Notebook on IBM Watson Studio",
      "metadata": {}
    },
    {
      "cell_type": "markdown",
      "source": "**Keragala Arachchilage Buddhima Dinushan**  \nStudent",
      "metadata": {}
    },
    {
      "cell_type": "markdown",
      "source": "_I am interesed in data science because it is trending field in these days and it has good oportunities in the world_\n",
      "metadata": {}
    },
    {
      "cell_type": "markdown",
      "source": "### X=1 Y=3\n### print(x + y)",
      "metadata": {}
    },
    {
      "cell_type": "code",
      "source": "x=1 \ny=3\nprint(x+y)",
      "metadata": {
        "trusted": true
      },
      "execution_count": 1,
      "outputs": [
        {
          "name": "stdout",
          "text": "4\n",
          "output_type": "stream"
        }
      ]
    },
    {
      "cell_type": "markdown",
      "source": "1. Item one \n1. Item two\n1. Item three\n\n* Apple\n* Mango\n* Orange  \n[Link for Coursera](https://www.coursera.org/)\n\n>“Faith is salted and peppered through everything at Christmas. And I love at least one night by the Christmas tree to sing and feel the quiet holiness of that time that’s set apart to celebrate love, friendship, and God’s gift of the Christ child.” —**Amy Grant**\n\n",
      "metadata": {}
    },
    {
      "cell_type": "code",
      "source": "",
      "metadata": {},
      "execution_count": null,
      "outputs": []
    }
  ]
}